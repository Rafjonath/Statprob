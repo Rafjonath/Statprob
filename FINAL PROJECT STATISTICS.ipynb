{
  "metadata": {
    "kernelspec": {
      "name": "python",
      "display_name": "Python (Pyodide)",
      "language": "python"
    },
    "language_info": {
      "codemirror_mode": {
        "name": "python",
        "version": 3
      },
      "file_extension": ".py",
      "mimetype": "text/x-python",
      "name": "python",
      "nbconvert_exporter": "python",
      "pygments_lexer": "ipython3",
      "version": "3.8"
    }
  },
  "nbformat_minor": 4,
  "nbformat": 4,
  "cells": [
    {
      "cell_type": "markdown",
      "source": "# Final Project StatProb \n## Tsunami Dataset",
      "metadata": {}
    },
    {
      "cell_type": "markdown",
      "source": "## Exploratory Data Analysis \nEDA adalah sebuah proses analisis awal terhadap dataset atau kumpulan data untuk memahami karakteristiknya. Dan mencari keterkaitan antar satu variabel dengan peristiwa yang terjadi. \n\n<b> Dataset yang digunakan adalah Tsunami Dataset </b> \n\nSumber : https://www.kaggle.com/datasets/andrewmvd/tsunami-dataset ",
      "metadata": {}
    },
    {
      "cell_type": "markdown",
      "source": "#### Anggota Kelompok\nRafael Jonathan Arnoldus 5027231006\n\nMichael Kenneth Salim 5027231008\n\nAcintya Edria Sudarsono 5027231020",
      "metadata": {}
    },
    {
      "cell_type": "markdown",
      "source": "# Tsunami Dataset \nDataset ini merupakan dataset yang memuat tentang peristiwa tsunami sejak tahun 2100 SM hingga saat ini dimana letak fokusnya berada di Samudra Atlantik, Samudra Hindia, dan Samudra Pasifik; serta Laut Tengah dan Karibia. Namun karena durasi dataset yang sangat lama ini bahkan sebelum masehi maka akan ada kesenjangan kualitas data yanng disampaikan kaarena memang pencatatan terkait dengan tsunami sebelum masehi sangatlah minim. ",
      "metadata": {}
    },
    {
      "cell_type": "markdown",
      "source": "## Tujuan \n#### Dataset ini bertujuan untuk mengetahui tentang dampak dari Tsunami yang terjadi dari mulai tahun 1800 M sampai dengan saat ini, selain itu juga melihat Tsunami yang terjadi biasanya disebabkan oleh peristiwa apa dan biasanya terjadi kapan. ",
      "metadata": {}
    },
    {
      "cell_type": "markdown",
      "source": "## <b> Pertama-tama kita memuat dataset terlebih dahulu : ",
      "metadata": {}
    },
    {
      "cell_type": "code",
      "source": "import os, math\nimport numpy as np\nimport pandas as pd\nimport geopandas as gpd\n\nimport matplotlib.pyplot as plt\nimport seaborn as sns\nsns.set_style(\"darkgrid\")\n\nimport folium\nfrom folium import Choropleth, Circle, Marker\nfrom folium.plugins import HeatMap, MarkerCluster",
      "metadata": {
        "trusted": true,
        "scrolled": true
      },
      "outputs": [
        {
          "ename": "<class 'ModuleNotFoundError'>",
          "evalue": "No module named 'seaborn'",
          "traceback": [
            "\u001b[0;31m---------------------------------------------------------------------------\u001b[0m",
            "\u001b[0;31mModuleNotFoundError\u001b[0m                       Traceback (most recent call last)",
            "Cell \u001b[0;32mIn[28], line 7\u001b[0m\n\u001b[1;32m      4\u001b[0m \u001b[38;5;28;01mimport\u001b[39;00m \u001b[38;5;21;01mgeopandas\u001b[39;00m \u001b[38;5;28;01mas\u001b[39;00m \u001b[38;5;21;01mgpd\u001b[39;00m\n\u001b[1;32m      6\u001b[0m \u001b[38;5;28;01mimport\u001b[39;00m \u001b[38;5;21;01mmatplotlib\u001b[39;00m\u001b[38;5;21;01m.\u001b[39;00m\u001b[38;5;21;01mpyplot\u001b[39;00m \u001b[38;5;28;01mas\u001b[39;00m \u001b[38;5;21;01mplt\u001b[39;00m\n\u001b[0;32m----> 7\u001b[0m \u001b[38;5;28;01mimport\u001b[39;00m \u001b[38;5;21;01mseaborn\u001b[39;00m \u001b[38;5;28;01mas\u001b[39;00m \u001b[38;5;21;01msns\u001b[39;00m\n\u001b[1;32m      8\u001b[0m sns\u001b[38;5;241m.\u001b[39mset_style(\u001b[38;5;124m\"\u001b[39m\u001b[38;5;124mdarkgrid\u001b[39m\u001b[38;5;124m\"\u001b[39m)\n\u001b[1;32m     10\u001b[0m \u001b[38;5;28;01mimport\u001b[39;00m \u001b[38;5;21;01mfolium\u001b[39;00m\n",
            "\u001b[0;31mModuleNotFoundError\u001b[0m: No module named 'seaborn'"
          ],
          "output_type": "error"
        }
      ],
      "execution_count": 28
    },
    {
      "cell_type": "markdown",
      "source": "<b>Tampilan datanya secara lengkap: ",
      "metadata": {}
    },
    {
      "cell_type": "code",
      "source": "df = pd.read_csv(\"tsunami_dataset.csv\")\ndf",
      "metadata": {
        "scrolled": true,
        "trusted": true
      },
      "outputs": [
        {
          "execution_count": 18,
          "output_type": "execute_result",
          "data": {
            "text/plain": "        ID  YEAR  MONTH   DAY  HOUR  MINUTE  LATITUDE  LONGITUDE  \\\n0       12  -330    NaN   NaN   NaN     NaN    40.000     25.000   \n1      481  1764    2.0  11.0   NaN     NaN    51.450     -2.583   \n2       71   859    NaN   NaN   NaN     NaN    36.080     36.250   \n3      186  1580    1.0   NaN   NaN     NaN    40.000    128.000   \n4        5 -1300    NaN   NaN   NaN     NaN    39.960     26.240   \n...    ...   ...    ...   ...   ...     ...       ...        ...   \n2254  5753  2020    7.0  22.0   6.0    12.0    55.030   -158.522   \n2255  5750  2020    6.0  18.0  12.0    49.0   -33.294   -177.838   \n2256  5752  2013    4.0  22.0   1.0    16.0    18.081   -102.182   \n2257  5749  1867    6.0  10.0   NaN     NaN    -7.800    110.400   \n2258  5751  2020    6.0  23.0  15.0    29.0    16.029    -95.901   \n\n                            LOCATION_NAME      COUNTRY  ...       CAUSE  \\\n0     E. SPORADES ISLANDS, AEGEAN ISLANDS       GREECE  ...  Earthquake   \n1                        BRISTOL, ENGLAND           UK  ...     Unknown   \n2                               SAMANDAGI       TURKEY  ...  Earthquake   \n3                              YELLOW SEA  NORTH KOREA  ...     Unknown   \n4                    IONIAN COASTS, TROAD       TURKEY  ...     Unknown   \n...                                   ...          ...  ...         ...   \n2254                 SHUMAGIN ISLANDS, AK          USA  ...  Earthquake   \n2255  S OF RAOUL ISLAND, KERMADEC ISLANDS  NEW ZEALAND  ...  Earthquake   \n2256                               MEXICO       MEXICO  ...  Earthquake   \n2257                                 JAVA    INDONESIA  ...  Earthquake   \n2258               OFF OF COAST OF OAXACA       MEXICO  ...  Earthquake   \n\n             EVENT_VALIDITY EQ_MAGNITUDE  EQ_DEPTH  TS_INTENSITY  \\\n0     Very Doubtful Tsunami          7.0       NaN           NaN   \n1     Very Doubtful Tsunami          NaN       NaN           NaN   \n2      Questionable Tsunami          NaN       NaN           3.0   \n3     Very Doubtful Tsunami          NaN       NaN           1.0   \n4      Questionable Tsunami          6.0       NaN           5.0   \n...                     ...          ...       ...           ...   \n2254       Definite Tsunami          7.8      28.0           NaN   \n2255       Definite Tsunami          7.4      10.0           NaN   \n2256       Probable Tsunami          6.0      30.0           NaN   \n2257  Very Doubtful Tsunami          NaN       NaN           NaN   \n2258       Definite Tsunami          7.4      26.0           NaN   \n\n            DAMAGE_TOTAL_DESCRIPTION    HOUSES_TOTAL_DESCRIPTION  \\\n0                                NaN                         NaN   \n1                                NaN                         NaN   \n2                                NaN                         NaN   \n3                                NaN                         NaN   \n4                                NaN                         NaN   \n...                              ...                         ...   \n2254                             NaN                         NaN   \n2255                             NaN                         NaN   \n2256                             NaN                         NaN   \n2257    Severe (~>$5 to $24 million)  Many (~101 to 1000 houses)   \n2258  Extreme (~$25 million or more)                         NaN   \n\n     DEATHS_TOTAL_DESCRIPTION  \\\n0                         NaN   \n1                         NaN   \n2                         NaN   \n3                         NaN   \n4                         NaN   \n...                       ...   \n2254                      NaN   \n2255                      NaN   \n2256                      NaN   \n2257    Few (~1 to 50 people)   \n2258    Few (~1 to 50 people)   \n\n                                                    URL  \\\n0     https://www.ngdc.noaa.gov/hazel/view/hazards/t...   \n1     https://www.ngdc.noaa.gov/hazel/view/hazards/t...   \n2     https://www.ngdc.noaa.gov/hazel/view/hazards/t...   \n3     https://www.ngdc.noaa.gov/hazel/view/hazards/t...   \n4     https://www.ngdc.noaa.gov/hazel/view/hazards/t...   \n...                                                 ...   \n2254  https://www.ngdc.noaa.gov/hazel/view/hazards/t...   \n2255  https://www.ngdc.noaa.gov/hazel/view/hazards/t...   \n2256  https://www.ngdc.noaa.gov/hazel/view/hazards/t...   \n2257  https://www.ngdc.noaa.gov/hazel/view/hazards/t...   \n2258  https://www.ngdc.noaa.gov/hazel/view/hazards/t...   \n\n                                               COMMENTS  \n0     330 B.C. Aegean Sea, Sporades Islands, 40 N 25...  \n1     Reference #1894, in full: \"On Saturday the 11t...  \n2     859 (possibly 861), November. Levantian Sea, N...  \n3     <P><blockquote><i>Reference #414:</i></blockqu...  \n4     1300 B.C. Ionian and Aegean Seas. References t...  \n...                                                 ...  \n2254                                                NaN  \n2255  A small tsunami (12 cm) occurred today followi...  \n2256  In the same subduction zone, earthquakes of Ap...  \n2257  A seaquake was observed in the backarc. While ...  \n2258                                                NaN  \n\n[2259 rows x 21 columns]",
            "text/html": "<div>\n<style scoped>\n    .dataframe tbody tr th:only-of-type {\n        vertical-align: middle;\n    }\n\n    .dataframe tbody tr th {\n        vertical-align: top;\n    }\n\n    .dataframe thead th {\n        text-align: right;\n    }\n</style>\n<table border=\"1\" class=\"dataframe\">\n  <thead>\n    <tr style=\"text-align: right;\">\n      <th></th>\n      <th>ID</th>\n      <th>YEAR</th>\n      <th>MONTH</th>\n      <th>DAY</th>\n      <th>HOUR</th>\n      <th>MINUTE</th>\n      <th>LATITUDE</th>\n      <th>LONGITUDE</th>\n      <th>LOCATION_NAME</th>\n      <th>COUNTRY</th>\n      <th>...</th>\n      <th>CAUSE</th>\n      <th>EVENT_VALIDITY</th>\n      <th>EQ_MAGNITUDE</th>\n      <th>EQ_DEPTH</th>\n      <th>TS_INTENSITY</th>\n      <th>DAMAGE_TOTAL_DESCRIPTION</th>\n      <th>HOUSES_TOTAL_DESCRIPTION</th>\n      <th>DEATHS_TOTAL_DESCRIPTION</th>\n      <th>URL</th>\n      <th>COMMENTS</th>\n    </tr>\n  </thead>\n  <tbody>\n    <tr>\n      <th>0</th>\n      <td>12</td>\n      <td>-330</td>\n      <td>NaN</td>\n      <td>NaN</td>\n      <td>NaN</td>\n      <td>NaN</td>\n      <td>40.000</td>\n      <td>25.000</td>\n      <td>E. SPORADES ISLANDS, AEGEAN ISLANDS</td>\n      <td>GREECE</td>\n      <td>...</td>\n      <td>Earthquake</td>\n      <td>Very Doubtful Tsunami</td>\n      <td>7.0</td>\n      <td>NaN</td>\n      <td>NaN</td>\n      <td>NaN</td>\n      <td>NaN</td>\n      <td>NaN</td>\n      <td>https://www.ngdc.noaa.gov/hazel/view/hazards/t...</td>\n      <td>330 B.C. Aegean Sea, Sporades Islands, 40 N 25...</td>\n    </tr>\n    <tr>\n      <th>1</th>\n      <td>481</td>\n      <td>1764</td>\n      <td>2.0</td>\n      <td>11.0</td>\n      <td>NaN</td>\n      <td>NaN</td>\n      <td>51.450</td>\n      <td>-2.583</td>\n      <td>BRISTOL, ENGLAND</td>\n      <td>UK</td>\n      <td>...</td>\n      <td>Unknown</td>\n      <td>Very Doubtful Tsunami</td>\n      <td>NaN</td>\n      <td>NaN</td>\n      <td>NaN</td>\n      <td>NaN</td>\n      <td>NaN</td>\n      <td>NaN</td>\n      <td>https://www.ngdc.noaa.gov/hazel/view/hazards/t...</td>\n      <td>Reference #1894, in full: \"On Saturday the 11t...</td>\n    </tr>\n    <tr>\n      <th>2</th>\n      <td>71</td>\n      <td>859</td>\n      <td>NaN</td>\n      <td>NaN</td>\n      <td>NaN</td>\n      <td>NaN</td>\n      <td>36.080</td>\n      <td>36.250</td>\n      <td>SAMANDAGI</td>\n      <td>TURKEY</td>\n      <td>...</td>\n      <td>Earthquake</td>\n      <td>Questionable Tsunami</td>\n      <td>NaN</td>\n      <td>NaN</td>\n      <td>3.0</td>\n      <td>NaN</td>\n      <td>NaN</td>\n      <td>NaN</td>\n      <td>https://www.ngdc.noaa.gov/hazel/view/hazards/t...</td>\n      <td>859 (possibly 861), November. Levantian Sea, N...</td>\n    </tr>\n    <tr>\n      <th>3</th>\n      <td>186</td>\n      <td>1580</td>\n      <td>1.0</td>\n      <td>NaN</td>\n      <td>NaN</td>\n      <td>NaN</td>\n      <td>40.000</td>\n      <td>128.000</td>\n      <td>YELLOW SEA</td>\n      <td>NORTH KOREA</td>\n      <td>...</td>\n      <td>Unknown</td>\n      <td>Very Doubtful Tsunami</td>\n      <td>NaN</td>\n      <td>NaN</td>\n      <td>1.0</td>\n      <td>NaN</td>\n      <td>NaN</td>\n      <td>NaN</td>\n      <td>https://www.ngdc.noaa.gov/hazel/view/hazards/t...</td>\n      <td>&lt;P&gt;&lt;blockquote&gt;&lt;i&gt;Reference #414:&lt;/i&gt;&lt;/blockqu...</td>\n    </tr>\n    <tr>\n      <th>4</th>\n      <td>5</td>\n      <td>-1300</td>\n      <td>NaN</td>\n      <td>NaN</td>\n      <td>NaN</td>\n      <td>NaN</td>\n      <td>39.960</td>\n      <td>26.240</td>\n      <td>IONIAN COASTS, TROAD</td>\n      <td>TURKEY</td>\n      <td>...</td>\n      <td>Unknown</td>\n      <td>Questionable Tsunami</td>\n      <td>6.0</td>\n      <td>NaN</td>\n      <td>5.0</td>\n      <td>NaN</td>\n      <td>NaN</td>\n      <td>NaN</td>\n      <td>https://www.ngdc.noaa.gov/hazel/view/hazards/t...</td>\n      <td>1300 B.C. Ionian and Aegean Seas. References t...</td>\n    </tr>\n    <tr>\n      <th>...</th>\n      <td>...</td>\n      <td>...</td>\n      <td>...</td>\n      <td>...</td>\n      <td>...</td>\n      <td>...</td>\n      <td>...</td>\n      <td>...</td>\n      <td>...</td>\n      <td>...</td>\n      <td>...</td>\n      <td>...</td>\n      <td>...</td>\n      <td>...</td>\n      <td>...</td>\n      <td>...</td>\n      <td>...</td>\n      <td>...</td>\n      <td>...</td>\n      <td>...</td>\n      <td>...</td>\n    </tr>\n    <tr>\n      <th>2254</th>\n      <td>5753</td>\n      <td>2020</td>\n      <td>7.0</td>\n      <td>22.0</td>\n      <td>6.0</td>\n      <td>12.0</td>\n      <td>55.030</td>\n      <td>-158.522</td>\n      <td>SHUMAGIN ISLANDS, AK</td>\n      <td>USA</td>\n      <td>...</td>\n      <td>Earthquake</td>\n      <td>Definite Tsunami</td>\n      <td>7.8</td>\n      <td>28.0</td>\n      <td>NaN</td>\n      <td>NaN</td>\n      <td>NaN</td>\n      <td>NaN</td>\n      <td>https://www.ngdc.noaa.gov/hazel/view/hazards/t...</td>\n      <td>NaN</td>\n    </tr>\n    <tr>\n      <th>2255</th>\n      <td>5750</td>\n      <td>2020</td>\n      <td>6.0</td>\n      <td>18.0</td>\n      <td>12.0</td>\n      <td>49.0</td>\n      <td>-33.294</td>\n      <td>-177.838</td>\n      <td>S OF RAOUL ISLAND, KERMADEC ISLANDS</td>\n      <td>NEW ZEALAND</td>\n      <td>...</td>\n      <td>Earthquake</td>\n      <td>Definite Tsunami</td>\n      <td>7.4</td>\n      <td>10.0</td>\n      <td>NaN</td>\n      <td>NaN</td>\n      <td>NaN</td>\n      <td>NaN</td>\n      <td>https://www.ngdc.noaa.gov/hazel/view/hazards/t...</td>\n      <td>A small tsunami (12 cm) occurred today followi...</td>\n    </tr>\n    <tr>\n      <th>2256</th>\n      <td>5752</td>\n      <td>2013</td>\n      <td>4.0</td>\n      <td>22.0</td>\n      <td>1.0</td>\n      <td>16.0</td>\n      <td>18.081</td>\n      <td>-102.182</td>\n      <td>MEXICO</td>\n      <td>MEXICO</td>\n      <td>...</td>\n      <td>Earthquake</td>\n      <td>Probable Tsunami</td>\n      <td>6.0</td>\n      <td>30.0</td>\n      <td>NaN</td>\n      <td>NaN</td>\n      <td>NaN</td>\n      <td>NaN</td>\n      <td>https://www.ngdc.noaa.gov/hazel/view/hazards/t...</td>\n      <td>In the same subduction zone, earthquakes of Ap...</td>\n    </tr>\n    <tr>\n      <th>2257</th>\n      <td>5749</td>\n      <td>1867</td>\n      <td>6.0</td>\n      <td>10.0</td>\n      <td>NaN</td>\n      <td>NaN</td>\n      <td>-7.800</td>\n      <td>110.400</td>\n      <td>JAVA</td>\n      <td>INDONESIA</td>\n      <td>...</td>\n      <td>Earthquake</td>\n      <td>Very Doubtful Tsunami</td>\n      <td>NaN</td>\n      <td>NaN</td>\n      <td>NaN</td>\n      <td>Severe (~&gt;$5 to $24 million)</td>\n      <td>Many (~101 to 1000 houses)</td>\n      <td>Few (~1 to 50 people)</td>\n      <td>https://www.ngdc.noaa.gov/hazel/view/hazards/t...</td>\n      <td>A seaquake was observed in the backarc. While ...</td>\n    </tr>\n    <tr>\n      <th>2258</th>\n      <td>5751</td>\n      <td>2020</td>\n      <td>6.0</td>\n      <td>23.0</td>\n      <td>15.0</td>\n      <td>29.0</td>\n      <td>16.029</td>\n      <td>-95.901</td>\n      <td>OFF OF COAST OF OAXACA</td>\n      <td>MEXICO</td>\n      <td>...</td>\n      <td>Earthquake</td>\n      <td>Definite Tsunami</td>\n      <td>7.4</td>\n      <td>26.0</td>\n      <td>NaN</td>\n      <td>Extreme (~$25 million or more)</td>\n      <td>NaN</td>\n      <td>Few (~1 to 50 people)</td>\n      <td>https://www.ngdc.noaa.gov/hazel/view/hazards/t...</td>\n      <td>NaN</td>\n    </tr>\n  </tbody>\n</table>\n<p>2259 rows × 21 columns</p>\n</div>"
          },
          "metadata": {}
        }
      ],
      "execution_count": 18
    },
    {
      "cell_type": "markdown",
      "source": "# ",
      "metadata": {}
    },
    {
      "cell_type": "markdown",
      "source": "<b> Karena data banyak yang terbilang sudah sangat lama kejadiannya maka akan dibatasi dari mulai abad ke 19",
      "metadata": {}
    },
    {
      "cell_type": "code",
      "source": "# Drop rows with missing locations\ndf = df.dropna(subset=['LATITUDE', 'LONGITUDE'])\n\n# Filter dataframe from the 19th century onwards\ndf = df[df.YEAR>=1800]\n\n# Get positive tsunami intensity values to vary folium circle sizes\ndf['TS_INTENSITY'].fillna(df['TS_INTENSITY'].median(), inplace=True)\ndf['TS_INTENSITY_PLOT'] = df['TS_INTENSITY'] - df['TS_INTENSITY'].min() + 0.5\ndf",
      "metadata": {
        "trusted": true
      },
      "outputs": [
        {
          "execution_count": 27,
          "output_type": "execute_result",
          "data": {
            "text/plain": "        ID  YEAR  MONTH   DAY  HOUR  MINUTE  LATITUDE  LONGITUDE  \\\n525   1400  1911   11.0   3.0   NaN     NaN    10.500    -61.200   \n527   1476  1919    5.0  22.0  17.0    45.0    38.789     15.213   \n528   1323  1905    7.0   4.0   NaN     NaN    60.000   -139.580   \n532   1395  1911    5.0  11.0   NaN     NaN     6.100      1.200   \n537   1468  1919    2.0  13.0   NaN     NaN    -9.000    124.850   \n...    ...   ...    ...   ...   ...     ...       ...        ...   \n2253  5748  2020    5.0  29.0   5.0    30.0    -8.058    114.242   \n2254  5753  2020    7.0  22.0   6.0    12.0    55.030   -158.522   \n2255  5750  2020    6.0  18.0  12.0    49.0   -33.294   -177.838   \n2256  5752  2013    4.0  22.0   1.0    16.0    18.081   -102.182   \n2258  5751  2020    6.0  23.0  15.0    29.0    16.029    -95.901   \n\n                            LOCATION_NAME              COUNTRY  ...  \\\n525                              TRINIDAD  TRINIDAD AND TOBAGO  ...   \n527                      STROMBOLI ISLAND                ITALY  ...   \n528                DISENCHANTMENT BAY, AK                  USA  ...   \n532                            GOLD COAST                 TOGO  ...   \n537                             TIMOR SEA            INDONESIA  ...   \n...                                   ...                  ...  ...   \n2253     LESSER SUNDA: BALI: IJEN VOLCANO            INDONESIA  ...   \n2254                 SHUMAGIN ISLANDS, AK                  USA  ...   \n2255  S OF RAOUL ISLAND, KERMADEC ISLANDS          NEW ZEALAND  ...   \n2256                               MEXICO               MEXICO  ...   \n2258               OFF OF COAST OF OAXACA               MEXICO  ...   \n\n                                         EVENT_VALIDITY EQ_MAGNITUDE EQ_DEPTH  \\\n525                                    Probable Tsunami          NaN      NaN   \n527                                    Definite Tsunami          NaN      NaN   \n528                                    Definite Tsunami          NaN      NaN   \n532                                Questionable Tsunami          6.6      NaN   \n537                                Questionable Tsunami          NaN      NaN   \n...                                                 ...          ...      ...   \n2253  Event that only caused a seiche or disturbance...          NaN      NaN   \n2254                                   Definite Tsunami          7.8     28.0   \n2255                                   Definite Tsunami          7.4     10.0   \n2256                                   Probable Tsunami          6.0     30.0   \n2258                                   Definite Tsunami          7.4     26.0   \n\n      TS_INTENSITY        DAMAGE_TOTAL_DESCRIPTION  HOUSES_TOTAL_DESCRIPTION  \\\n525            1.0                             NaN                       NaN   \n527            4.0           Limited (<$1 million)     Few (~1 to 50 houses)   \n528            2.5                             NaN                       NaN   \n532            1.0           Limited (<$1 million)                       NaN   \n537            1.5           Limited (<$1 million)                       NaN   \n...            ...                             ...                       ...   \n2253           1.0                             NaN                       NaN   \n2254           1.0                             NaN                       NaN   \n2255           1.0                             NaN                       NaN   \n2256           1.0                             NaN                       NaN   \n2258           1.0  Extreme (~$25 million or more)                       NaN   \n\n     DEATHS_TOTAL_DESCRIPTION  \\\n525                       NaN   \n527     Few (~1 to 50 people)   \n528                       NaN   \n532                       NaN   \n537                       NaN   \n...                       ...   \n2253    Few (~1 to 50 people)   \n2254                      NaN   \n2255                      NaN   \n2256                      NaN   \n2258    Few (~1 to 50 people)   \n\n                                                    URL  \\\n525   https://www.ngdc.noaa.gov/hazel/view/hazards/t...   \n527   https://www.ngdc.noaa.gov/hazel/view/hazards/t...   \n528   https://www.ngdc.noaa.gov/hazel/view/hazards/t...   \n532   https://www.ngdc.noaa.gov/hazel/view/hazards/t...   \n537   https://www.ngdc.noaa.gov/hazel/view/hazards/t...   \n...                                                 ...   \n2253  https://www.ngdc.noaa.gov/hazel/view/hazards/t...   \n2254  https://www.ngdc.noaa.gov/hazel/view/hazards/t...   \n2255  https://www.ngdc.noaa.gov/hazel/view/hazards/t...   \n2256  https://www.ngdc.noaa.gov/hazel/view/hazards/t...   \n2258  https://www.ngdc.noaa.gov/hazel/view/hazards/t...   \n\n                                               COMMENTS TS_INTENSITY_PLOT  \n525   A volcano-related tsunami produced extraordina...              5.64  \n527   1919, May 22, 17h45m[?]. Tyrrhenian Sea, Lipar...              8.64  \n528   A hanging glacier -- now called Fallen Glacier...              7.14  \n532   1911 May 11, Togo. A tidal wave submerged the ...              5.64  \n537   1919, February 13. An unusually high flood tid...              6.14  \n...                                                 ...               ...  \n2253  A sulfur miner was killed when volcanic activi...              5.64  \n2254                                                NaN              5.64  \n2255  A small tsunami (12 cm) occurred today followi...              5.64  \n2256  In the same subduction zone, earthquakes of Ap...              5.64  \n2258                                                NaN              5.64  \n\n[1233 rows x 22 columns]",
            "text/html": "<div>\n<style scoped>\n    .dataframe tbody tr th:only-of-type {\n        vertical-align: middle;\n    }\n\n    .dataframe tbody tr th {\n        vertical-align: top;\n    }\n\n    .dataframe thead th {\n        text-align: right;\n    }\n</style>\n<table border=\"1\" class=\"dataframe\">\n  <thead>\n    <tr style=\"text-align: right;\">\n      <th></th>\n      <th>ID</th>\n      <th>YEAR</th>\n      <th>MONTH</th>\n      <th>DAY</th>\n      <th>HOUR</th>\n      <th>MINUTE</th>\n      <th>LATITUDE</th>\n      <th>LONGITUDE</th>\n      <th>LOCATION_NAME</th>\n      <th>COUNTRY</th>\n      <th>...</th>\n      <th>EVENT_VALIDITY</th>\n      <th>EQ_MAGNITUDE</th>\n      <th>EQ_DEPTH</th>\n      <th>TS_INTENSITY</th>\n      <th>DAMAGE_TOTAL_DESCRIPTION</th>\n      <th>HOUSES_TOTAL_DESCRIPTION</th>\n      <th>DEATHS_TOTAL_DESCRIPTION</th>\n      <th>URL</th>\n      <th>COMMENTS</th>\n      <th>TS_INTENSITY_PLOT</th>\n    </tr>\n  </thead>\n  <tbody>\n    <tr>\n      <th>525</th>\n      <td>1400</td>\n      <td>1911</td>\n      <td>11.0</td>\n      <td>3.0</td>\n      <td>NaN</td>\n      <td>NaN</td>\n      <td>10.500</td>\n      <td>-61.200</td>\n      <td>TRINIDAD</td>\n      <td>TRINIDAD AND TOBAGO</td>\n      <td>...</td>\n      <td>Probable Tsunami</td>\n      <td>NaN</td>\n      <td>NaN</td>\n      <td>1.0</td>\n      <td>NaN</td>\n      <td>NaN</td>\n      <td>NaN</td>\n      <td>https://www.ngdc.noaa.gov/hazel/view/hazards/t...</td>\n      <td>A volcano-related tsunami produced extraordina...</td>\n      <td>5.64</td>\n    </tr>\n    <tr>\n      <th>527</th>\n      <td>1476</td>\n      <td>1919</td>\n      <td>5.0</td>\n      <td>22.0</td>\n      <td>17.0</td>\n      <td>45.0</td>\n      <td>38.789</td>\n      <td>15.213</td>\n      <td>STROMBOLI ISLAND</td>\n      <td>ITALY</td>\n      <td>...</td>\n      <td>Definite Tsunami</td>\n      <td>NaN</td>\n      <td>NaN</td>\n      <td>4.0</td>\n      <td>Limited (&lt;$1 million)</td>\n      <td>Few (~1 to 50 houses)</td>\n      <td>Few (~1 to 50 people)</td>\n      <td>https://www.ngdc.noaa.gov/hazel/view/hazards/t...</td>\n      <td>1919, May 22, 17h45m[?]. Tyrrhenian Sea, Lipar...</td>\n      <td>8.64</td>\n    </tr>\n    <tr>\n      <th>528</th>\n      <td>1323</td>\n      <td>1905</td>\n      <td>7.0</td>\n      <td>4.0</td>\n      <td>NaN</td>\n      <td>NaN</td>\n      <td>60.000</td>\n      <td>-139.580</td>\n      <td>DISENCHANTMENT BAY, AK</td>\n      <td>USA</td>\n      <td>...</td>\n      <td>Definite Tsunami</td>\n      <td>NaN</td>\n      <td>NaN</td>\n      <td>2.5</td>\n      <td>NaN</td>\n      <td>NaN</td>\n      <td>NaN</td>\n      <td>https://www.ngdc.noaa.gov/hazel/view/hazards/t...</td>\n      <td>A hanging glacier -- now called Fallen Glacier...</td>\n      <td>7.14</td>\n    </tr>\n    <tr>\n      <th>532</th>\n      <td>1395</td>\n      <td>1911</td>\n      <td>5.0</td>\n      <td>11.0</td>\n      <td>NaN</td>\n      <td>NaN</td>\n      <td>6.100</td>\n      <td>1.200</td>\n      <td>GOLD COAST</td>\n      <td>TOGO</td>\n      <td>...</td>\n      <td>Questionable Tsunami</td>\n      <td>6.6</td>\n      <td>NaN</td>\n      <td>1.0</td>\n      <td>Limited (&lt;$1 million)</td>\n      <td>NaN</td>\n      <td>NaN</td>\n      <td>https://www.ngdc.noaa.gov/hazel/view/hazards/t...</td>\n      <td>1911 May 11, Togo. A tidal wave submerged the ...</td>\n      <td>5.64</td>\n    </tr>\n    <tr>\n      <th>537</th>\n      <td>1468</td>\n      <td>1919</td>\n      <td>2.0</td>\n      <td>13.0</td>\n      <td>NaN</td>\n      <td>NaN</td>\n      <td>-9.000</td>\n      <td>124.850</td>\n      <td>TIMOR SEA</td>\n      <td>INDONESIA</td>\n      <td>...</td>\n      <td>Questionable Tsunami</td>\n      <td>NaN</td>\n      <td>NaN</td>\n      <td>1.5</td>\n      <td>Limited (&lt;$1 million)</td>\n      <td>NaN</td>\n      <td>NaN</td>\n      <td>https://www.ngdc.noaa.gov/hazel/view/hazards/t...</td>\n      <td>1919, February 13. An unusually high flood tid...</td>\n      <td>6.14</td>\n    </tr>\n    <tr>\n      <th>...</th>\n      <td>...</td>\n      <td>...</td>\n      <td>...</td>\n      <td>...</td>\n      <td>...</td>\n      <td>...</td>\n      <td>...</td>\n      <td>...</td>\n      <td>...</td>\n      <td>...</td>\n      <td>...</td>\n      <td>...</td>\n      <td>...</td>\n      <td>...</td>\n      <td>...</td>\n      <td>...</td>\n      <td>...</td>\n      <td>...</td>\n      <td>...</td>\n      <td>...</td>\n      <td>...</td>\n    </tr>\n    <tr>\n      <th>2253</th>\n      <td>5748</td>\n      <td>2020</td>\n      <td>5.0</td>\n      <td>29.0</td>\n      <td>5.0</td>\n      <td>30.0</td>\n      <td>-8.058</td>\n      <td>114.242</td>\n      <td>LESSER SUNDA: BALI: IJEN VOLCANO</td>\n      <td>INDONESIA</td>\n      <td>...</td>\n      <td>Event that only caused a seiche or disturbance...</td>\n      <td>NaN</td>\n      <td>NaN</td>\n      <td>1.0</td>\n      <td>NaN</td>\n      <td>NaN</td>\n      <td>Few (~1 to 50 people)</td>\n      <td>https://www.ngdc.noaa.gov/hazel/view/hazards/t...</td>\n      <td>A sulfur miner was killed when volcanic activi...</td>\n      <td>5.64</td>\n    </tr>\n    <tr>\n      <th>2254</th>\n      <td>5753</td>\n      <td>2020</td>\n      <td>7.0</td>\n      <td>22.0</td>\n      <td>6.0</td>\n      <td>12.0</td>\n      <td>55.030</td>\n      <td>-158.522</td>\n      <td>SHUMAGIN ISLANDS, AK</td>\n      <td>USA</td>\n      <td>...</td>\n      <td>Definite Tsunami</td>\n      <td>7.8</td>\n      <td>28.0</td>\n      <td>1.0</td>\n      <td>NaN</td>\n      <td>NaN</td>\n      <td>NaN</td>\n      <td>https://www.ngdc.noaa.gov/hazel/view/hazards/t...</td>\n      <td>NaN</td>\n      <td>5.64</td>\n    </tr>\n    <tr>\n      <th>2255</th>\n      <td>5750</td>\n      <td>2020</td>\n      <td>6.0</td>\n      <td>18.0</td>\n      <td>12.0</td>\n      <td>49.0</td>\n      <td>-33.294</td>\n      <td>-177.838</td>\n      <td>S OF RAOUL ISLAND, KERMADEC ISLANDS</td>\n      <td>NEW ZEALAND</td>\n      <td>...</td>\n      <td>Definite Tsunami</td>\n      <td>7.4</td>\n      <td>10.0</td>\n      <td>1.0</td>\n      <td>NaN</td>\n      <td>NaN</td>\n      <td>NaN</td>\n      <td>https://www.ngdc.noaa.gov/hazel/view/hazards/t...</td>\n      <td>A small tsunami (12 cm) occurred today followi...</td>\n      <td>5.64</td>\n    </tr>\n    <tr>\n      <th>2256</th>\n      <td>5752</td>\n      <td>2013</td>\n      <td>4.0</td>\n      <td>22.0</td>\n      <td>1.0</td>\n      <td>16.0</td>\n      <td>18.081</td>\n      <td>-102.182</td>\n      <td>MEXICO</td>\n      <td>MEXICO</td>\n      <td>...</td>\n      <td>Probable Tsunami</td>\n      <td>6.0</td>\n      <td>30.0</td>\n      <td>1.0</td>\n      <td>NaN</td>\n      <td>NaN</td>\n      <td>NaN</td>\n      <td>https://www.ngdc.noaa.gov/hazel/view/hazards/t...</td>\n      <td>In the same subduction zone, earthquakes of Ap...</td>\n      <td>5.64</td>\n    </tr>\n    <tr>\n      <th>2258</th>\n      <td>5751</td>\n      <td>2020</td>\n      <td>6.0</td>\n      <td>23.0</td>\n      <td>15.0</td>\n      <td>29.0</td>\n      <td>16.029</td>\n      <td>-95.901</td>\n      <td>OFF OF COAST OF OAXACA</td>\n      <td>MEXICO</td>\n      <td>...</td>\n      <td>Definite Tsunami</td>\n      <td>7.4</td>\n      <td>26.0</td>\n      <td>1.0</td>\n      <td>Extreme (~$25 million or more)</td>\n      <td>NaN</td>\n      <td>Few (~1 to 50 people)</td>\n      <td>https://www.ngdc.noaa.gov/hazel/view/hazards/t...</td>\n      <td>NaN</td>\n      <td>5.64</td>\n    </tr>\n  </tbody>\n</table>\n<p>1233 rows × 22 columns</p>\n</div>"
          },
          "metadata": {}
        }
      ],
      "execution_count": 27
    },
    {
      "cell_type": "markdown",
      "source": "##\n<b> Membuat penggolongan tipe data",
      "metadata": {}
    },
    {
      "cell_type": "code",
      "source": "df.dtypes",
      "metadata": {
        "trusted": true
      },
      "outputs": [
        {
          "data": {
            "text/plain": [
              "ID                            int64\n",
              "YEAR                          int64\n",
              "MONTH                       float64\n",
              "DAY                         float64\n",
              "HOUR                        float64\n",
              "MINUTE                      float64\n",
              "LATITUDE                    float64\n",
              "LONGITUDE                   float64\n",
              "LOCATION_NAME                object\n",
              "COUNTRY                      object\n",
              "REGION                       object\n",
              "CAUSE                        object\n",
              "EVENT_VALIDITY               object\n",
              "EQ_MAGNITUDE                float64\n",
              "EQ_DEPTH                    float64\n",
              "TS_INTENSITY                float64\n",
              "DAMAGE_TOTAL_DESCRIPTION     object\n",
              "HOUSES_TOTAL_DESCRIPTION     object\n",
              "DEATHS_TOTAL_DESCRIPTION     object\n",
              "URL                          object\n",
              "COMMENTS                     object\n",
              "dtype: object"
            ]
          },
          "execution_count": 12,
          "metadata": {},
          "output_type": "execute_result"
        }
      ],
      "execution_count": 12
    },
    {
      "cell_type": "markdown",
      "source": "## Berikut adalah penjelasan dari masing-masing variabel ",
      "metadata": {}
    },
    {
      "cell_type": "markdown",
      "source": "|Atribut         |Deskripsi | \n|----------------|:--------|\n|YEAR|Pada Tahun keberapa terjadinya Tsunami|\n|MOUNTH|Pada Bulan keberapa terjadinya Tsunami|\n|DAY|Pada Hari keberapa terjadinya Tsunami|\n|HOUR|Pada Jam keberapa terjadinya Tsunami|\n|MINUTE|Pada Menit keberapa terjadinya Tsunami|\n|LATITUDE|Garis mendatar bumi|\n|LONGTITUDE|Garis Lintang bumi|\n|LOCATION_NAME|Tempat kejadian terjadinya Tsunami|\n|COUNTRY|Nama negara yang terkena Tsunami|\n|CAUSES|Penyebab terjadinya Tsunami|\n|EQ_MAGNITUDE|Kekuatan dari gempa apabila Tsunami diakibatkan oleh gempa|\n|EQ_DEPTH|Kedalaman terjadinya gempa|\n|TS_INTENSITY|Kekuatan Tsunami atau intensitas dari Tsunami yang terjadi|\n|DEATHS_TOTAL_DESCRIPTION|Total jumlah kematian yang diakibatkan Tsunami|\n|HOUSES_TOTAL_DESCRIPTION|Kerusakan rumah yang diakibatkan oleh Tsunami|\n|DAMAGE_TOTAL_DESCRIPTION|Kerusakan total yang diakibatkan oleh Tsunami|",
      "metadata": {}
    },
    {
      "cell_type": "markdown",
      "source": "## Menampilkan Letak Tsunami\n### Menganalis letak terjadinya Tsunami dengan menampilkannya menggunakan peta ",
      "metadata": {}
    },
    {
      "cell_type": "code",
      "source": "map_ = folium.Map(location=[0.0, 0.0], tiles='cartodbpositron', zoom_start=1.5)\n​\nHeatMap(data=df[['LATITUDE', 'LONGITUDE']], radius=10).add_to(map_)\n​\n# Display the map\nmap_",
      "metadata": {
        "trusted": true
      },
      "outputs": [
        {
          "ename": "<class 'SyntaxError'>",
          "evalue": "invalid non-printable character U+200B (<ipython-input-23-75403840931e>, line 2)",
          "traceback": [
            "\u001b[0;36m  Cell \u001b[0;32mIn[23], line 2\u001b[0;36m\u001b[0m\n\u001b[0;31m    ​\u001b[0m\n\u001b[0m    ^\u001b[0m\n\u001b[0;31mSyntaxError\u001b[0m\u001b[0;31m:\u001b[0m invalid non-printable character U+200B\n"
          ],
          "output_type": "error"
        }
      ],
      "execution_count": 23
    },
    {
      "cell_type": "markdown",
      "source": "##### Dari tampilan peta dengan heatmap dapat kita lihat bahwa persebaran Tsunami di Asia banyak terjadi di sekitaran Indonesia, Filiphina, Jepang. Sedangkan di Amerika banyak terjadi di pesisir barat dari South Amerika seperti Chile, Peru, Panama, dan lainnya. ",
      "metadata": {}
    },
    {
      "cell_type": "markdown",
      "source": "## Menganalis Data \n### Menggunakan Beberapa variabel yang ada sebelumnya kita analisis hubungan antara Tsunami dengan variabel tersebut\n#### 1. Jumlah Tsunami dengan Negara tempat terjadinya",
      "metadata": {}
    },
    {
      "cell_type": "code",
      "source": "plt.figure(figsize=(6,8))\ncause = list(map(lambda x: x.title(), df[\"CAUSE\"].value_counts().keys().tolist()))\nax = sns.countplot(y=\"CAUSE\", data=df, order=df[\"CAUSE\"].value_counts().index)\nax.set_xscale(\"log\")\nax.axes.set_title(\"Cause vs. # Tsunamis (Log Scale)\",fontsize=18)\nax.set_xlabel(\"Number of Tsunamis (Log Scale)\",fontsize=16)\nax.set_ylabel(\"Cause\",fontsize=16)\nax.tick_params(labelsize=12)\nax.set_yticklabels(cause, rotation=0, fontsize=12)\nplt.tight_layout()\nplt.show()",
      "metadata": {
        "trusted": true
      },
      "outputs": [
        {
          "output_type": "display_data",
          "data": {
            "text/plain": "<Figure size 600x800 with 0 Axes>"
          },
          "metadata": {}
        },
        {
          "ename": "<class 'NameError'>",
          "evalue": "name 'sns' is not defined",
          "traceback": [
            "\u001b[0;31m---------------------------------------------------------------------------\u001b[0m",
            "\u001b[0;31mNameError\u001b[0m                                 Traceback (most recent call last)",
            "Cell \u001b[0;32mIn[26], line 3\u001b[0m\n\u001b[1;32m      1\u001b[0m plt\u001b[38;5;241m.\u001b[39mfigure(figsize\u001b[38;5;241m=\u001b[39m(\u001b[38;5;241m6\u001b[39m,\u001b[38;5;241m8\u001b[39m))\n\u001b[1;32m      2\u001b[0m cause \u001b[38;5;241m=\u001b[39m \u001b[38;5;28mlist\u001b[39m(\u001b[38;5;28mmap\u001b[39m(\u001b[38;5;28;01mlambda\u001b[39;00m x: x\u001b[38;5;241m.\u001b[39mtitle(), df[\u001b[38;5;124m\"\u001b[39m\u001b[38;5;124mCAUSE\u001b[39m\u001b[38;5;124m\"\u001b[39m]\u001b[38;5;241m.\u001b[39mvalue_counts()\u001b[38;5;241m.\u001b[39mkeys()\u001b[38;5;241m.\u001b[39mtolist()))\n\u001b[0;32m----> 3\u001b[0m ax \u001b[38;5;241m=\u001b[39m \u001b[43msns\u001b[49m\u001b[38;5;241m.\u001b[39mcountplot(y\u001b[38;5;241m=\u001b[39m\u001b[38;5;124m\"\u001b[39m\u001b[38;5;124mCAUSE\u001b[39m\u001b[38;5;124m\"\u001b[39m, data\u001b[38;5;241m=\u001b[39mdf, order\u001b[38;5;241m=\u001b[39mdf[\u001b[38;5;124m\"\u001b[39m\u001b[38;5;124mCAUSE\u001b[39m\u001b[38;5;124m\"\u001b[39m]\u001b[38;5;241m.\u001b[39mvalue_counts()\u001b[38;5;241m.\u001b[39mindex)\n\u001b[1;32m      4\u001b[0m ax\u001b[38;5;241m.\u001b[39mset_xscale(\u001b[38;5;124m\"\u001b[39m\u001b[38;5;124mlog\u001b[39m\u001b[38;5;124m\"\u001b[39m)\n\u001b[1;32m      5\u001b[0m ax\u001b[38;5;241m.\u001b[39maxes\u001b[38;5;241m.\u001b[39mset_title(\u001b[38;5;124m\"\u001b[39m\u001b[38;5;124mCause vs. # Tsunamis (Log Scale)\u001b[39m\u001b[38;5;124m\"\u001b[39m,fontsize\u001b[38;5;241m=\u001b[39m\u001b[38;5;241m18\u001b[39m)\n",
            "\u001b[0;31mNameError\u001b[0m: name 'sns' is not defined"
          ],
          "output_type": "error"
        }
      ],
      "execution_count": 26
    },
    {
      "cell_type": "markdown",
      "source": "##### Dapat dilihat dari grafik yang ada bahwa tsunami paling banyak terjadi di Jepang lalu berikutnya disusul oleh Indonesia, lalu berikutnya USA, lalu berikutnya ada Chile. Pada grafik ini memperjelas heatmap yang ada sebelumnya dimana memang persebaran Tsunami banyak terjadi di Asia dan Amerika. ",
      "metadata": {}
    },
    {
      "cell_type": "markdown",
      "source": "#\n#### 2. Jumlah Tsunami dengan penyebab terjadinya",
      "metadata": {}
    },
    {
      "cell_type": "code",
      "source": "",
      "metadata": {
        "trusted": true
      },
      "outputs": [],
      "execution_count": null
    },
    {
      "cell_type": "markdown",
      "source": "##### Dilihat dari grafik yang tersedia kebanyakan tsunami terjadi karena adanya gempa bumi dan penyebab berikutnya tidak diketahui dengan pasti apa penyebab tsunami tersebut karena memang radar tidak mendeteksi adanya gempa bumi, gunung meletus, atau ledakan. Berikutnya disebabkan oleh gunung meletus. ",
      "metadata": {}
    },
    {
      "cell_type": "markdown",
      "source": "#### 3. Jumlah Tsunami dengan Bulan terjadinya ",
      "metadata": {}
    },
    {
      "cell_type": "code",
      "source": "",
      "metadata": {
        "trusted": true
      },
      "outputs": [],
      "execution_count": null
    },
    {
      "cell_type": "markdown",
      "source": "##### Dilihat dari grafik yang ditampilkan dapat dilihat bahwa tsunami sering terjadi di bulan agustus disusul bulan november, lalu bulan may, lalu bulan januari dan bulan yang paling sedikit terjadi tsunami adalah di bulan april  ",
      "metadata": {}
    },
    {
      "cell_type": "markdown",
      "source": "#### 4. Kerugian yang ditimbulkan oleh Tsunami\n\n##### Kerugian Total dilihat dari kerugian dengan capaian uang mulai kurang dari satu juta dollar hingga 25 juta dollar",
      "metadata": {}
    },
    {
      "cell_type": "code",
      "source": "",
      "metadata": {
        "trusted": true
      },
      "outputs": [],
      "execution_count": null
    },
    {
      "cell_type": "markdown",
      "source": "##### Bila kita lihat pada grafik maka kebanyakan tsunami tidak menyebabkan kerugian yang sangat besar dan kebanyakan kerugiannya masih dibawah satu juta dollar atau sekitar kurang dari 15 miliar rupiah. Namun ada cukup banyak juga yang kerugiannya sekisar 1 juta dollar hingga 5 juta dollar atau sekitar 15 hingga 75 miliar rupiah. Dan bahkan ada beberapa tsunami yang menyebabkan kerugian hingga lebih dari 25 juta dollar atau sekitar lebih dari 375 miliar rupiah.  ",
      "metadata": {}
    },
    {
      "cell_type": "markdown",
      "source": "##### Kerugian Total dilihat dari jumlah rumah yang terkena Tsunami",
      "metadata": {}
    },
    {
      "cell_type": "code",
      "source": "",
      "metadata": {
        "trusted": true
      },
      "outputs": [],
      "execution_count": null
    },
    {
      "cell_type": "markdown",
      "source": "##### Bila kita lihat dari grafik maka kerukan yang diakibatkan tsunami kebanyakan akan menghancurkan lebih dari 100 rumah warga dan susul dengan menghancurkan 1 sampai 50 rumah dan berikutnya menghancurkan hingga lebih dari 1000 rumah warga, sedangkan yang terakhir menghancurkan lebih dari 51 kurang dari 100 rumah. Dari sini bisa kita lihat bahwa tsunami sangatlah merusak apalagi hal-hal seperti rumah. ",
      "metadata": {}
    },
    {
      "cell_type": "markdown",
      "source": "##### Kerugian total dilihat dari jummlah kematian yang diakibatkan Tsunami",
      "metadata": {}
    },
    {
      "cell_type": "code",
      "source": "",
      "metadata": {
        "trusted": true
      },
      "outputs": [],
      "execution_count": null
    },
    {
      "cell_type": "markdown",
      "source": "##### Bila kita lihat dari grafik maka kebanyakan tsunami tidak banyak menimbulkan korban dimana kebanyakan hanya menewaskan 1-50 orang saja hal ini sangat berbanding terbalik dengan kerusakan pada rumah warga. Namun peringkat kedua menewaskan 100-1000 orang dan peringkat ketiga menewaskan lebih dari 1000 orang dan terakhir menewaskan 51-100 orang sehingga bisa kita lihat bahwa data ini mirip dengan keruskan pada rumah dimana pada peringkat ketiga menghancurkan lebih dari 1000 rumah. ",
      "metadata": {}
    },
    {
      "cell_type": "markdown",
      "source": "### Kesimpulan\n#### Dari pemvisualisasian yang telah dilakukan dapat dilihat bahwa kecenderungan terjadinya Tsunami ada saat bulan Agustus dan seringkali disebabkan oleh gempa bumi. Dan kerusakan atau kerugian yang diakibatkan oleh tsunami cukup besar dimana kerugian kebanyakan bisa mencapai 15 miliar rupiah dan bahkan bisa hingga lebih dari 375 miliar rupiah, dan selain kerugian finansial kerugian terhadap kerusakan rumah juga cukup tinggi dimana kebanyakan tsunami akan menghancurkan lebih dari 100 rumah dan bahkan bisa hingga lebih dari 1000 rumah, dan korban jiwa pada tsunami memang kebanyakan hanya 1-50 orang namun pada ranking berikutnya kebanyakan tsunami menelan 100-1000 korban jiwa dan peringkat berikutnya lagi lebih dari 1000 korban jiwa sehingga bisa dikatakan saat tsunami tersebut terjadi di pinggiran yang tidak banyak aktivitas manusia maka korban jiwa akan minim namun saat tsunami ini terjadi di tempat yang banyak beraktivisas maka korban akan naik secara eksponensial karena tsunami sangat merusak dan berbahaya.  ",
      "metadata": {}
    },
    {
      "cell_type": "code",
      "source": "",
      "metadata": {
        "trusted": true
      },
      "outputs": [],
      "execution_count": null
    }
  ]
}